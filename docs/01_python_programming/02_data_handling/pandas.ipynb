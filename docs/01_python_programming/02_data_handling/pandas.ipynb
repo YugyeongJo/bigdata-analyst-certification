{
 "cells": [
  {
   "cell_type": "markdown",
   "id": "883f59d9",
   "metadata": {},
   "source": [
    "# groupby"
   ]
  },
  {
   "cell_type": "code",
   "execution_count": null,
   "id": "430cc74a",
   "metadata": {},
   "outputs": [],
   "source": [
    "# 이름별 점수 평균 구하기\n",
    "df.groupby('이름')['점수'].mean()"
   ]
  },
  {
   "cell_type": "code",
   "execution_count": null,
   "id": "83b86645",
   "metadata": {},
   "outputs": [],
   "source": [
    "# 이름 + 과목별 평균 점수 구하기\n",
    "df.groupby(['이름', '과목'])['점수'].mean()"
   ]
  }
 ],
 "metadata": {
  "language_info": {
   "name": "python"
  }
 },
 "nbformat": 4,
 "nbformat_minor": 5
}
