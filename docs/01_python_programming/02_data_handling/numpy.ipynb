{
 "cells": [
  {
   "cell_type": "markdown",
   "id": "1080636a",
   "metadata": {},
   "source": [
    "# Numpy 다루기"
   ]
  },
  {
   "cell_type": "markdown",
   "id": "a76049f1",
   "metadata": {},
   "source": [
    "## Numpy 배열 다루기\n",
    "- 파이썬의 Numpy 패키지는 데이터 분석과 산술 연산에 사용하는 기본적인 패키지 중 하나\n",
    "- 다차원배열을 정의하고 처리하는데 필요한 다양한 기능을 제공"
   ]
  },
  {
   "cell_type": "markdown",
   "id": "1b6cfc3c",
   "metadata": {},
   "source": [
    "### Numpy 개요\n",
    "- 행렬이나 대규모 다차원배열을 쉽게 처리하도록 도와주는 파이썬 패키지로 많은 머신러닝, 딥러닝 패키지가 넘파이를 기반으로 구현\n",
    "- 파이썬에서 기본 제공되는 리스트 자료구조와 유사하지만, 배열의 크기가 커져도 높은 성능을 보장하며 배열을 이용한 다양한 통계, 수학 함수도 제공한다(파이썬 리스트는 배열의 크기가 커질수록 성능이 떨어짐)\n",
    "- 동일한 자료형만 담을 수 있다(리스트는 다양한 자료형 가능)"
   ]
  },
  {
   "cell_type": "code",
   "execution_count": 4,
   "id": "b0369d1c",
   "metadata": {},
   "outputs": [],
   "source": [
    "# numpy 패키지 설치\n",
    "# !pip install numpy"
   ]
  },
  {
   "cell_type": "code",
   "execution_count": 5,
   "id": "9127343f",
   "metadata": {},
   "outputs": [],
   "source": [
    "# numpy 패키지 추가\n",
    "import numpy as np"
   ]
  },
  {
   "cell_type": "markdown",
   "id": "f4711cc9",
   "metadata": {},
   "source": [
    "### ndarray 객체\n",
    "- ndarray는 넘파이 패키지에 있는 다차원 배열을 지원하는 객체\n",
    "- ndarray 객체는 리스트와 유사한 구조로 배열을 표현하지만, 리스트보다 다양한 기능을 제공\n",
    "- 다양한 메소드를 제공하며 다차원 배열을 정의하고 사용"
   ]
  },
  {
   "cell_type": "code",
   "execution_count": null,
   "id": "ed3b7a21",
   "metadata": {},
   "outputs": [
    {
     "name": "stdout",
     "output_type": "stream",
     "text": [
      "ar1 = \n",
      "[1 2 3 4 5]\n",
      "=======\n",
      "ar2 = \n",
      "[[1 2 3]\n",
      " [4 5 6]]\n"
     ]
    }
   ],
   "source": [
    "# 배열 만들기 및 초기화\n",
    "\n",
    "ar1 = np.array([1, 2, 3, 4, 5])\n",
    "ar2 = np.array([[1, 2, 3], [4, 5, 6]])\n",
    "\n",
    "print(\"ar1 = \")\n",
    "print(ar1)\n",
    "print(\"=======\")\n",
    "print(\"ar2 = \")\n",
    "print(ar2)"
   ]
  },
  {
   "cell_type": "code",
   "execution_count": null,
   "id": "165c036f",
   "metadata": {},
   "outputs": [
    {
     "name": "stdout",
     "output_type": "stream",
     "text": [
      "ar1 = \n",
      "[-2.55773403 -0.00953126  1.29557603]\n",
      "=======\n",
      "ar2 = \n",
      "[[ 0.68126664 -0.56890839  0.24505744]\n",
      " [ 1.08493224 -0.0577288  -0.067125  ]]\n"
     ]
    }
   ],
   "source": [
    "# 난수를 이용한 2차원 배열 객체 생성\n",
    "\n",
    "ar3 = np.random.randn(3) # 3 크기의 1차원 배열을 생성(난수 발생)\n",
    "ar4 = np.random.randn(2, 3) # 2*3 크기의 2차원 배열 생성(난수 발생)\n",
    "\n",
    "print(\"ar3 = \")\n",
    "print(ar3)\n",
    "print(\"=======\")\n",
    "print(\"ar4 = \")\n",
    "print(ar4)"
   ]
  },
  {
   "cell_type": "code",
   "execution_count": 12,
   "id": "5b249263",
   "metadata": {},
   "outputs": [
    {
     "name": "stdout",
     "output_type": "stream",
     "text": [
      "ar5 = \n",
      "[0. 0. 0. 0. 0.]\n",
      "=======\n",
      "ar6 = \n",
      "[[1. 1. 1.]\n",
      " [1. 1. 1.]]\n"
     ]
    }
   ],
   "source": [
    "# 원소를 0 또는 1로 초기화\n",
    "\n",
    "ar5 = np.zeros(5) # 1차원 배열 [0, 0, 0, 0, 0] 생성\n",
    "ar6 = np.ones((2, 3)) # 2차원 배열([1, 1, 1], [1, 1, 1]) 생성\n",
    "\n",
    "print(\"ar5 = \")\n",
    "print(ar5)\n",
    "print(\"=======\")\n",
    "print(\"ar6 = \")\n",
    "print(ar6)"
   ]
  },
  {
   "cell_type": "code",
   "execution_count": 14,
   "id": "f96a8eb4",
   "metadata": {},
   "outputs": [
    {
     "name": "stdout",
     "output_type": "stream",
     "text": [
      "ar7 = \n",
      "[ 20  30  40  50  60  70  80  90 100 110 120 130 140 150 160 170 180 190]\n",
      "=======\n",
      "ar8 = \n",
      "[[ 20  30  40  50  60  70]\n",
      " [ 80  90 100 110 120 130]\n",
      " [140 150 160 170 180 190]]\n"
     ]
    }
   ],
   "source": [
    "# arrange()와 reshape() 메소드 사용\n",
    "\n",
    "ar7 = np.arange(20, 200, 10) # 20부터 200-1까지 10씩 증가\n",
    "ar8 = ar7.reshape(3, 6) # 3*6 배열로 재배치\n",
    "\n",
    "print(\"ar7 = \")\n",
    "print(ar7)\n",
    "print(\"=======\")\n",
    "print(\"ar8 = \")\n",
    "print(ar8)"
   ]
  },
  {
   "cell_type": "code",
   "execution_count": null,
   "id": "ffa41be6",
   "metadata": {},
   "outputs": [
    {
     "ename": "ValueError",
     "evalue": "cannot reshape array of size 18 into shape (3,5)",
     "output_type": "error",
     "traceback": [
      "\u001b[31m---------------------------------------------------------------------------\u001b[39m",
      "\u001b[31mValueError\u001b[39m                                Traceback (most recent call last)",
      "\u001b[36mCell\u001b[39m\u001b[36m \u001b[39m\u001b[32mIn[15]\u001b[39m\u001b[32m, line 2\u001b[39m\n\u001b[32m      1\u001b[39m ar7 = np.arange(\u001b[32m20\u001b[39m, \u001b[32m200\u001b[39m, \u001b[32m10\u001b[39m)\n\u001b[32m----> \u001b[39m\u001b[32m2\u001b[39m ar8 = \u001b[43mar7\u001b[49m\u001b[43m.\u001b[49m\u001b[43mreshape\u001b[49m\u001b[43m(\u001b[49m\u001b[32;43m3\u001b[39;49m\u001b[43m,\u001b[49m\u001b[43m \u001b[49m\u001b[32;43m5\u001b[39;49m\u001b[43m)\u001b[49m\n",
      "\u001b[31mValueError\u001b[39m: cannot reshape array of size 18 into shape (3,5)"
     ]
    }
   ],
   "source": [
    "ar7 = np.arange(20, 200, 10)\n",
    "ar8 = ar7.reshape(3, 5)\n",
    "\n",
    "# reshape을 할 경우 사이즈가 안맞으면 불가능능"
   ]
  },
  {
   "cell_type": "markdown",
   "id": "6a133dfb",
   "metadata": {},
   "source": [
    "### 배열 다루기\n",
    "- 인덱스를 이용하여 원하는 위치의 배열 원소값을 읽어오거나 값을 변경"
   ]
  },
  {
   "cell_type": "code",
   "execution_count": 25,
   "id": "aac2608b",
   "metadata": {},
   "outputs": [
    {
     "name": "stdout",
     "output_type": "stream",
     "text": [
      "[ 1  2  3  4  5  6  7  8  9 10 11 12 13 14 15 16 17 18 19 20]\n",
      "2\n",
      "======\n",
      "[[ 1  2  3  4  5  6  7  8  9 10]\n",
      " [11 12 13 14 15 16 17 18 19 20]]\n",
      "======\n",
      "[[  1   2   3   4   5   6   7   8   9  10]\n",
      " [ 11 100  13  14  15  16  17  18  19  20]]\n",
      "11 100 13\n"
     ]
    }
   ],
   "source": [
    "# 인덱스를 이용하여 원하는 위치의 배열 원소값을 읽어오거나 값을 변경\n",
    "\n",
    "ar1 = np.arange(1, 21, 1)\n",
    "print(ar1)\n",
    "print(ar1[1])\n",
    "\n",
    "print(\"======\")\n",
    "\n",
    "ar2 = ar1.reshape(2, 10)\n",
    "print(ar2)\n",
    "\n",
    "print(\"======\")\n",
    "\n",
    "ar2[1][1] = 100\n",
    "print(ar2)\n",
    "print(ar2[1][0], ar2[1][1], ar2[1][2])"
   ]
  },
  {
   "cell_type": "code",
   "execution_count": 27,
   "id": "3f6d5b00",
   "metadata": {},
   "outputs": [
    {
     "name": "stdout",
     "output_type": "stream",
     "text": [
      "[ 1  2  3  4  5  6  7  8  9 10]\n",
      "[ 4  5  6  7  8  9 10 11 12 13] \n",
      " [ 2  4  6  8 10 12 14 16 18 20]\n"
     ]
    }
   ],
   "source": [
    "# 배열의 산술 연산 : 배열의 연산은 배열 원소에 각각 적용\n",
    "ar1 = np.arange(1, 11, 1)\n",
    "ar2 = ar1 + 3\n",
    "ar3 = ar1 * 2\n",
    "print(ar1)\n",
    "print(ar2, \"\\n\", ar3)"
   ]
  },
  {
   "cell_type": "code",
   "execution_count": 28,
   "id": "119ab8cc",
   "metadata": {},
   "outputs": [
    {
     "name": "stdout",
     "output_type": "stream",
     "text": [
      "[[ 5  7  9]\n",
      " [-7 -6 19]\n",
      " [ 6  9 11]]\n",
      "53\n",
      "5.888888888888889\n",
      "19\n",
      "-7\n",
      "[ 6  9 19]\n",
      "[ 9 19 11]\n"
     ]
    }
   ],
   "source": [
    "# 배열의 통계 메소드 사용\n",
    "\n",
    "ar1 = np.array([[5, 7, 9], [-7, -6, 19], [6, 9, 11]])\n",
    "print(ar1)\n",
    "print(ar1.sum())\n",
    "print(ar1.mean())\n",
    "print(ar1.max())\n",
    "print(ar1.min())\n",
    "print(ar1.max(axis=0))\n",
    "print(ar1.max(axis=1))\n"
   ]
  },
  {
   "cell_type": "code",
   "execution_count": null,
   "id": "bce90b54",
   "metadata": {},
   "outputs": [
    {
     "name": "stdout",
     "output_type": "stream",
     "text": [
      "[[ True  True  True]\n",
      " [False False  True]\n",
      " [ True  True  True]]\n",
      "2\n",
      "[[ 5  7  9]\n",
      " [ 0  0 19]\n",
      " [ 6  9 11]]\n"
     ]
    }
   ],
   "source": [
    "# 조건식을 사용한 연산\n",
    "\n",
    "ar1 = np.array([[5, 7, 9], [-7, -6, 19], [6, 9, 11]])\n",
    "print(ar1 > 0) # ar1의 각 원소가 0보다 큰지 판단한 결과를 출력\n",
    "m_count = (ar1 < 0).sum() # 원소 중 음수가 몇 개 인지 계산산\n",
    "print(m_count)\n",
    "\n",
    "# ar1의 원소가 0보다 작으면 ar2를 0으로 변경, 그렇지 않으면 ar1의 값으로 대입\n",
    "ar2 = np.where(ar1 < 0, 0, ar1)\n",
    "print(ar2)"
   ]
  },
  {
   "cell_type": "code",
   "execution_count": null,
   "id": "196975ad",
   "metadata": {},
   "outputs": [
    {
     "name": "stdout",
     "output_type": "stream",
     "text": [
      "[[ 5  7  9]\n",
      " [-3 -6 19]\n",
      " [ 6  4 11]]\n",
      "[[-3 -6  9]\n",
      " [ 5  4 11]\n",
      " [ 6  7 19]]\n",
      "[[-6 -3  9]\n",
      " [ 4  5 11]\n",
      " [ 6  7 19]]\n"
     ]
    }
   ],
   "source": [
    "# 배열의 정렬\n",
    "\n",
    "ar1 = np.array([[5, 7, 9], [-3, -6, 19], [6, 4, 11]])\n",
    "print(ar1)\n",
    "\n",
    "ar1.sort(0) # sort(0)는 열 단위로 원소를 정렬\n",
    "print(ar1)\n",
    "\n",
    "ar1.sort(1) # sort(1)는 행 단위로 원소를 정렬렬\n",
    "print(ar1)"
   ]
  },
  {
   "cell_type": "code",
   "execution_count": null,
   "id": "00e97f8c",
   "metadata": {},
   "outputs": [],
   "source": []
  }
 ],
 "metadata": {
  "kernelspec": {
   "display_name": "bigdata-analyst-certification",
   "language": "python",
   "name": "python3"
  },
  "language_info": {
   "codemirror_mode": {
    "name": "ipython",
    "version": 3
   },
   "file_extension": ".py",
   "mimetype": "text/x-python",
   "name": "python",
   "nbconvert_exporter": "python",
   "pygments_lexer": "ipython3",
   "version": "3.11.11"
  }
 },
 "nbformat": 4,
 "nbformat_minor": 5
}
