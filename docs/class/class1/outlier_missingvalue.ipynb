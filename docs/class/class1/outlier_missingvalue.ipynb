{
 "cells": [
  {
   "cell_type": "markdown",
   "id": "a99c421e",
   "metadata": {},
   "source": [
    "# 이상치(Outlier) 처리\n",
    "- 전체 데이터 분포에서 벗어난 극단적인 값"
   ]
  },
  {
   "cell_type": "markdown",
   "id": "f3b2f0c7",
   "metadata": {},
   "source": [
    "## 이상치 탐색 방법\n",
    "- 박스플롯(Boxplot)\n",
    "- IQR(Interquartile Range)"
   ]
  },
  {
   "cell_type": "code",
   "execution_count": 5,
   "id": "b3c4a75e",
   "metadata": {},
   "outputs": [
    {
     "data": {
      "image/png": "[encoded data removed]",
      "text/plain": [
       "<Figure size 600x400 with 1 Axes>"
      ]
     },
     "metadata": {},
     "output_type": "display_data"
    }
   ],
   "source": [
    "import pandas as pd\n",
    "import matplotlib.pyplot as plt\n",
    "import seaborn as sns\n",
    "\n",
    "# 예제 데이터프레임 생성\n",
    "data = {'value': [10, 12, 12, 13, 12, 14, 15, 100, 12, 13, 14, 15, 16, 17]}\n",
    "df = pd.DataFrame(data)\n",
    "\n",
    "# seaborn 박스플롯 그리기\n",
    "plt.figure(figsize=(6, 4))\n",
    "sns.boxplot(x=df['value'])\n",
    "plt.title('Boxplot of value')\n",
    "plt.show()\n"
   ]
  },
  {
   "cell_type": "code",
   "execution_count": null,
   "id": "1fb0e211",
   "metadata": {},
   "outputs": [],
   "source": [
    "# IQR 계산\n",
    "Q1 = df['value'].quantile(0.25)\n",
    "Q3 = df['value'].quantile(0.75)\n",
    "IQR = Q3 - Q1\n",
    "\n",
    "# 이상치 경계값 설정\n",
    "lower_bound = Q1 - 1.5 * IQR\n",
    "upper_bound = Q3 + 1.5 * IQR"
   ]
  },
  {
   "cell_type": "markdown",
   "id": "853e7a8b",
   "metadata": {},
   "source": [
    "## 이상치 처리 방법\n",
    "- 이상치 제거\n",
    "- 이상치를 다른 값으로(예: 경계값)으로 변환\n",
    "- 이상치를 별도로 분석용 태그 부여"
   ]
  },
  {
   "cell_type": "code",
   "execution_count": 4,
   "id": "5d8ab0fa",
   "metadata": {},
   "outputs": [
    {
     "name": "stdout",
     "output_type": "stream",
     "text": [
      "\n",
      "IQR: 1.75, lower_bound: 9.375, upper_bound: 16.375\n",
      "\n",
      "이상치 제거 후 데이터\n",
      "   value\n",
      "0     10\n",
      "1     12\n",
      "2     12\n",
      "3     13\n",
      "4     12\n",
      "5     14\n",
      "6     15\n",
      "8     12\n",
      "9     13\n"
     ]
    }
   ],
   "source": [
    "import pandas as pd\n",
    "\n",
    "data = {'value': [10, 12, 12, 13, 12, 14, 15, 100, 12, 13]}\n",
    "df = pd.DataFrame(data)\n",
    "\n",
    "# IQR 계산\n",
    "Q1 = df['value'].quantile(0.25)\n",
    "Q3 = df['value'].quantile(0.75)\n",
    "IQR = Q3 - Q1\n",
    "\n",
    "# 이상치 경계값 설정\n",
    "lower_bound = Q1 - 1.5 * IQR\n",
    "upper_bound = Q3 + 1.5 * IQR\n",
    "\n",
    "print(f\"\\nIQR: {IQR}, lower_bound: {lower_bound}, upper_bound: {upper_bound}\")\n",
    "\n",
    "# 이상치 제거\n",
    "df_outlier_removed = df[(df['value'] >= lower_bound) & (df['value'] <= upper_bound)]\n",
    "\n",
    "print(\"\\n이상치 제거 후 데이터\")\n",
    "print(df_outlier_removed)"
   ]
  },
  {
   "cell_type": "markdown",
   "id": "eddd62a2",
   "metadata": {},
   "source": [
    "# 결측치(Missing Value) 처리\n",
    "- 데이터셋에서 값이 빠져있는 경우"
   ]
  },
  {
   "cell_type": "markdown",
   "id": "535a336d",
   "metadata": {},
   "source": [
    "## 결측치 탐색 방법\n",
    "- isnull().sum()\n",
    "- info()"
   ]
  },
  {
   "cell_type": "code",
   "execution_count": 7,
   "id": "32078e7c",
   "metadata": {},
   "outputs": [
    {
     "name": "stdout",
     "output_type": "stream",
     "text": [
      "age       2\n",
      "salary    1\n",
      "dtype: int64\n",
      "===============\n",
      "<class 'pandas.core.frame.DataFrame'>\n",
      "RangeIndex: 5 entries, 0 to 4\n",
      "Data columns (total 2 columns):\n",
      " #   Column  Non-Null Count  Dtype  \n",
      "---  ------  --------------  -----  \n",
      " 0   age     3 non-null      float64\n",
      " 1   salary  4 non-null      float64\n",
      "dtypes: float64(2)\n",
      "memory usage: 212.0 bytes\n"
     ]
    }
   ],
   "source": [
    "import pandas as pd\n",
    "import numpy as np\n",
    "\n",
    "data = {'age': [25, np.nan, 30, 22, np.nan],\n",
    "        'salary': [50000, 60000, np.nan, 52000, 58000]}\n",
    "df = pd.DataFrame(data)\n",
    "\n",
    "print(df.isnull().sum())\n",
    "\n",
    "print(\"===============\")\n",
    "\n",
    "df.info()"
   ]
  },
  {
   "cell_type": "markdown",
   "id": "b6c1c556",
   "metadata": {},
   "source": [
    "## 결측치 처리 방법\n",
    "- 제거(삭제)\n",
    "- 대체(Imputation) : 평균, 중앙값, 최빈값 등으로 결측치를 채움"
   ]
  },
  {
   "cell_type": "code",
   "execution_count": 10,
   "id": "808b4665",
   "metadata": {},
   "outputs": [
    {
     "name": "stdout",
     "output_type": "stream",
     "text": [
      "age       2\n",
      "salary    1\n",
      "dtype: int64\n",
      "<class 'pandas.core.frame.DataFrame'>\n",
      "RangeIndex: 5 entries, 0 to 4\n",
      "Data columns (total 2 columns):\n",
      " #   Column  Non-Null Count  Dtype  \n",
      "---  ------  --------------  -----  \n",
      " 0   age     3 non-null      float64\n",
      " 1   salary  4 non-null      float64\n",
      "dtypes: float64(2)\n",
      "memory usage: 212.0 bytes\n",
      "\n",
      "결측치 있는 행 삭제\n",
      "    age   salary\n",
      "0  25.0  50000.0\n",
      "3  22.0  52000.0\n",
      "\n",
      "결측치 평균값으로 대체\n",
      "         age   salary\n",
      "0  25.000000  50000.0\n",
      "1  25.666667  60000.0\n",
      "2  30.000000  55000.0\n",
      "3  22.000000  52000.0\n",
      "4  25.666667  58000.0\n"
     ]
    }
   ],
   "source": [
    "import pandas as pd\n",
    "import numpy as np\n",
    "\n",
    "data = {'age': [25, np.nan, 30, 22, np.nan],\n",
    "        'salary': [50000, 60000, np.nan, 52000, 58000]}\n",
    "df = pd.DataFrame(data)\n",
    "\n",
    "# 1) 결측치 확인\n",
    "print(df.isnull().sum())\n",
    "df.info()\n",
    "\n",
    "# 2) 결측치 삭제\n",
    "df_drop = df.dropna()\n",
    "print(\"\\n결측치 있는 행 삭제\")\n",
    "print(df_drop)\n",
    "\n",
    "# 3) 결측치 평균값으로 대체\n",
    "df_fill = df.fillna(df.mean())\n",
    "print(\"\\n결측치 평균값으로 대체\")\n",
    "print(df_fill)"
   ]
  },
  {
   "cell_type": "markdown",
   "id": "96d2c867",
   "metadata": {},
   "source": [
    "### 결측치 대체 방법\n",
    "- 1) 특정 값으로 대체하기\n",
    "- 2) 평균값으로 대체하기\n",
    "- 3) 중앙값으로 대체하기\n",
    "- 4) 이전 값 또는 다음 값으로 대체하기"
   ]
  },
  {
   "cell_type": "code",
   "execution_count": null,
   "id": "a73dcde3",
   "metadata": {},
   "outputs": [],
   "source": [
    "df.fillna(0)            # 모든 결측치를 0으로 대체\n",
    "df.fillna(df.max())     # 각 컬럼별 최대값으로 대체\n",
    "df.fillna(df.min())     # 각 컬럼별 최소값으로 대체"
   ]
  },
  {
   "cell_type": "code",
   "execution_count": null,
   "id": "0f360fe7",
   "metadata": {},
   "outputs": [],
   "source": [
    "df.fillna(df.mean())"
   ]
  },
  {
   "cell_type": "code",
   "execution_count": null,
   "id": "9cfae070",
   "metadata": {},
   "outputs": [],
   "source": [
    "df.fillna(df.median())"
   ]
  },
  {
   "cell_type": "code",
   "execution_count": null,
   "id": "0800abaa",
   "metadata": {},
   "outputs": [],
   "source": [
    "df.fillna(method='ffill')   # 이전 값으로 채우기 (forward fill)\n",
    "df.fillna(method='bfill')   # 다음 값으로 채우기 (backward fill)"
   ]
  },
  {
   "cell_type": "code",
   "execution_count": null,
   "id": "4390e122",
   "metadata": {},
   "outputs": [],
   "source": [
    "# 그룹별 평균값으로 대체\n",
    "## gender별로 그룹지어 그룹별 평균값으로 대체\n",
    "\n",
    "df['age'].fillna(df.groupby('gender')['age'].transform(lambda x: x.fillna(x.mean())))"
   ]
  },
  {
   "cell_type": "code",
   "execution_count": 11,
   "id": "52c3cdd8",
   "metadata": {},
   "outputs": [
    {
     "name": "stdout",
     "output_type": "stream",
     "text": [
      "원본\n",
      "    score   age\n",
      "0   90.0  20.0\n",
      "1    NaN  21.0\n",
      "2   85.0   NaN\n",
      "3    NaN  23.0\n",
      "4   95.0  24.0\n",
      "평균값 대체\n",
      "    score   age\n",
      "0   90.0  20.0\n",
      "1   90.0  21.0\n",
      "2   85.0  22.0\n",
      "3   90.0  23.0\n",
      "4   95.0  24.0\n",
      "중앙값 대체\n",
      "    score   age\n",
      "0   90.0  20.0\n",
      "1   90.0  21.0\n",
      "2   85.0  22.0\n",
      "3   90.0  23.0\n",
      "4   95.0  24.0\n"
     ]
    }
   ],
   "source": [
    "import pandas as pd\n",
    "import numpy as np\n",
    "\n",
    "df = pd.DataFrame({\n",
    "    'score': [90, np.nan, 85, np.nan, 95],\n",
    "    'age': [20, 21, np.nan, 23, 24]\n",
    "})\n",
    "\n",
    "# 평균값으로 대체\n",
    "df_mean = df.fillna(df.mean())\n",
    "\n",
    "# 중앙값으로 대체\n",
    "df_median = df.fillna(df.median())\n",
    "\n",
    "print(\"원본\\n\", df)\n",
    "print(\"평균값 대체\\n\", df_mean)\n",
    "print(\"중앙값 대체\\n\", df_median)\n"
   ]
  },
  {
   "cell_type": "code",
   "execution_count": null,
   "id": "9ddcdfcc",
   "metadata": {},
   "outputs": [],
   "source": []
  }
 ],
 "metadata": {
  "kernelspec": {
   "display_name": "bigdata-analyst",
   "language": "python",
   "name": "python3"
  },
  "language_info": {
   "codemirror_mode": {
    "name": "ipython",
    "version": 3
   },
   "file_extension": ".py",
   "mimetype": "text/x-python",
   "name": "python",
   "nbconvert_exporter": "python",
   "pygments_lexer": "ipython3",
   "version": "3.11.13"
  }
 },
 "nbformat": 4,
 "nbformat_minor": 5
}
