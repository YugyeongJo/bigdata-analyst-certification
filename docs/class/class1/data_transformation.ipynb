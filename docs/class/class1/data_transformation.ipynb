{
 "cells": [
  {
   "cell_type": "markdown",
   "id": "3ac56cd8",
   "metadata": {},
   "source": [
    "# Data Transformation"
   ]
  },
  {
   "cell_type": "markdown",
   "id": "d420568a",
   "metadata": {},
   "source": [
    "## 데이터 변환(Data Transformation)\n",
    "- 분석에 적합한 형태로 데이터를 바꾸는 과정\n",
    "    - 숫자가 너무 크거나 작아서 모델이 학습하기 어려울 때\n",
    "    - 문자를 숫자로 바꿔야 할 때\n",
    "    - 필요없는 값을 제거하고 새 값을 만들어야 할 때"
   ]
  },
  {
   "cell_type": "markdown",
   "id": "ff82cb90",
   "metadata": {},
   "source": [
    "### 인코딩(Encoding)\n",
    "- 문자로 되어있는 범주형 데이터를 숫자로 변환"
   ]
  },
  {
   "cell_type": "code",
   "execution_count": 3,
   "id": "3f0373bf",
   "metadata": {},
   "outputs": [
    {
     "name": "stdout",
     "output_type": "stream",
     "text": [
      "   성별  성별_인코딩\n",
      "0  남자       0\n",
      "1  여자       1\n",
      "2  여자       1\n",
      "3  남자       0\n",
      "4  여자       1\n"
     ]
    }
   ],
   "source": [
    "# Label Encoding\n",
    "\n",
    "import pandas as pd\n",
    "from sklearn.preprocessing import LabelEncoder\n",
    "\n",
    "df = pd.DataFrame({'성별': ['남자', '여자', '여자', '남자', '여자']})\n",
    "\n",
    "le = LabelEncoder()\n",
    "df['성별_인코딩'] = LabelEncoder().fit_transform(df['성별'])\n",
    "\n",
    "print(df)\n",
    "\n",
    "## Label Encoding은 순서가 없는데도 숫자 순서처럼 보이게 되므로,\n",
    "## 범주 간 우열이 없을 때는 One-Hot Encoding을 사용해야 함"
   ]
  },
  {
   "cell_type": "code",
   "execution_count": null,
   "metadata": {
    "vscode": {
     "languageId": "ini"
    }
   },
   "outputs": [
    {
     "name": "stdout",
     "output_type": "stream",
     "text": [
      "   성별_남자  성별_여자\n",
      "0   True  False\n",
      "1  False   True\n",
      "2  False   True\n",
      "3   True  False\n",
      "4  False   True\n"
     ]
    }
   ],
   "source": [
    "# One-Hot Encoding\n",
    "\n",
    "import pandas as pd\n",
    "\n",
    "df = pd.DataFrame({'성별': ['남자', '여자', '여자', '남자', '여자']})\n",
    "\n",
    "df_encoded = pd.get_dummies(df, columns=['성별'])\n",
    "print(df_encoded)\n",
    "\n",
    "## 범주마다 별도의 열(column)을 만들어 True 또는 False로 표시\n",
    "## 서로 다른 범주를 완전히 독립적인 변수로 취급"
   ]
  },
  {
   "cell_type": "code",
   "execution_count": 5,
   "id": "0ddb6aca",
   "metadata": {},
   "outputs": [
    {
     "name": "stdout",
     "output_type": "stream",
     "text": [
      "   학력  학력_인코딩\n",
      "0  고졸       0\n",
      "1  대졸       1\n",
      "2  석사       2\n",
      "3  고졸       0\n",
      "4  박사       3\n"
     ]
    }
   ],
   "source": [
    "# Ordinal Encoding (순서형 인코딩)\n",
    "\n",
    "import pandas as pd\n",
    "\n",
    "df = pd.DataFrame({'학력': ['고졸', '대졸', '석사', '고졸', '박사']})\n",
    "\n",
    "# 순서 지정\n",
    "edu_order = {'고졸': 0, '대졸': 1, '석사': 2, '박사': 3}\n",
    "df['학력_인코딩'] = df['학력'].map(edu_order)\n",
    "print(df)\n",
    "\n",
    "## 순서형 데이터에만 사용함\n",
    "## 순서가 없는 범주형 데이터에는 절대 사용 불가"
   ]
  },
  {
   "cell_type": "markdown",
   "id": "82794f72",
   "metadata": {},
   "source": [
    "### 정규화/표준화\n",
    "\n",
    "- 숫자형 데이터의 '스케일(단위나 범위)'을 조정하는 방법\n",
    "- KNN, SVM, 군집(KMeans) 등은 스케일에 민감한 모델"
   ]
  },
  {
   "cell_type": "markdown",
   "id": "92ae9c6b",
   "metadata": {},
   "source": [
    "#### 정규화 (Normalization)\n",
    "\n",
    "- 모든 데이터를 0가 1 사이의 값으로 바꿔주는 것\n",
    "- 최소값 0, 최대값 1로 맞춰주는 방식"
   ]
  },
  {
   "cell_type": "code",
   "execution_count": 6,
   "id": "38b235fc",
   "metadata": {},
   "outputs": [
    {
     "name": "stdout",
     "output_type": "stream",
     "text": [
      "   점수  정규화_점수\n",
      "0  10    0.00\n",
      "1  20    0.25\n",
      "2  30    0.50\n",
      "3  40    0.75\n",
      "4  50    1.00\n"
     ]
    }
   ],
   "source": [
    "# MinMaxScaler\n",
    "\n",
    "import pandas as pd\n",
    "from sklearn.preprocessing import MinMaxScaler\n",
    "\n",
    "df = pd.DataFrame({'점수': [10, 20, 30, 40, 50]})\n",
    "scaler = MinMaxScaler()\n",
    "df['정규화_점수'] = scaler.fit_transform(df[['점수']])\n",
    "print(df)"
   ]
  },
  {
   "cell_type": "markdown",
   "id": "974731c5",
   "metadata": {},
   "source": [
    "#### 표준화 (Standardization)\n",
    "\n",
    "- 평균은 0, 표준편차는 1로 조정하는 방식\n",
    "- 정규분포처럼 중심이 0이고, 퍼짐이 1이 되게 맞추는 것"
   ]
  },
  {
   "cell_type": "code",
   "execution_count": 11,
   "id": "e1dabf47",
   "metadata": {},
   "outputs": [
    {
     "name": "stdout",
     "output_type": "stream",
     "text": [
      "   점수  정규화_점수    표준화_점수\n",
      "0  10    0.00 -1.414214\n",
      "1  20    0.25 -0.707107\n",
      "2  30    0.50  0.000000\n",
      "3  40    0.75  0.707107\n",
      "4  50    1.00  1.414214\n"
     ]
    }
   ],
   "source": [
    "# StandardScaler\n",
    "\n",
    "from sklearn.preprocessing import StandardScaler\n",
    "\n",
    "scaler = StandardScaler()\n",
    "df['표준화_점수'] = scaler.fit_transform(df[['점수']])\n",
    "print(df)"
   ]
  },
  {
   "cell_type": "markdown",
   "id": "19be3f8d",
   "metadata": {},
   "source": [
    "#### 역변환\n",
    "\n",
    "- 정규화나 표준화된 값을 다시 원래 값으로 되돌릴 때 사용"
   ]
  },
  {
   "cell_type": "code",
   "execution_count": 18,
   "id": "4ce897e9",
   "metadata": {},
   "outputs": [
    {
     "data": {
      "text/html": [
       "<div>\n",
       "<style scoped>\n",
       "    .dataframe tbody tr th:only-of-type {\n",
       "        vertical-align: middle;\n",
       "    }\n",
       "\n",
       "    .dataframe tbody tr th {\n",
       "        vertical-align: top;\n",
       "    }\n",
       "\n",
       "    .dataframe thead th {\n",
       "        text-align: right;\n",
       "    }\n",
       "</style>\n",
       "<table border=\"1\" class=\"dataframe\">\n",
       "  <thead>\n",
       "    <tr style=\"text-align: right;\">\n",
       "      <th></th>\n",
       "      <th>점수</th>\n",
       "      <th>점수_정규화</th>\n",
       "      <th>점수_표준화</th>\n",
       "      <th>복원값1</th>\n",
       "      <th>복원값2</th>\n",
       "    </tr>\n",
       "  </thead>\n",
       "  <tbody>\n",
       "    <tr>\n",
       "      <th>0</th>\n",
       "      <td>10</td>\n",
       "      <td>0.00</td>\n",
       "      <td>-1.414214</td>\n",
       "      <td>10.0</td>\n",
       "      <td>10.0</td>\n",
       "    </tr>\n",
       "    <tr>\n",
       "      <th>1</th>\n",
       "      <td>20</td>\n",
       "      <td>0.25</td>\n",
       "      <td>-0.707107</td>\n",
       "      <td>20.0</td>\n",
       "      <td>20.0</td>\n",
       "    </tr>\n",
       "    <tr>\n",
       "      <th>2</th>\n",
       "      <td>30</td>\n",
       "      <td>0.50</td>\n",
       "      <td>0.000000</td>\n",
       "      <td>30.0</td>\n",
       "      <td>30.0</td>\n",
       "    </tr>\n",
       "    <tr>\n",
       "      <th>3</th>\n",
       "      <td>40</td>\n",
       "      <td>0.75</td>\n",
       "      <td>0.707107</td>\n",
       "      <td>40.0</td>\n",
       "      <td>40.0</td>\n",
       "    </tr>\n",
       "    <tr>\n",
       "      <th>4</th>\n",
       "      <td>50</td>\n",
       "      <td>1.00</td>\n",
       "      <td>1.414214</td>\n",
       "      <td>50.0</td>\n",
       "      <td>50.0</td>\n",
       "    </tr>\n",
       "  </tbody>\n",
       "</table>\n",
       "</div>"
      ],
      "text/plain": [
       "   점수  점수_정규화    점수_표준화  복원값1  복원값2\n",
       "0  10    0.00 -1.414214  10.0  10.0\n",
       "1  20    0.25 -0.707107  20.0  20.0\n",
       "2  30    0.50  0.000000  30.0  30.0\n",
       "3  40    0.75  0.707107  40.0  40.0\n",
       "4  50    1.00  1.414214  50.0  50.0"
      ]
     },
     "execution_count": 18,
     "metadata": {},
     "output_type": "execute_result"
    }
   ],
   "source": [
    "# .inverse_transform\n",
    "\n",
    "import pandas as pd\n",
    "from sklearn.preprocessing import MinMaxScaler, StandardScaler\n",
    "\n",
    "df = pd.DataFrame({'점수': [10, 20, 30, 40, 50]})\n",
    "\n",
    "# 정규화\n",
    "MMscaler = MinMaxScaler()\n",
    "df['점수_정규화'] = MMscaler.fit_transform(df[['점수']])\n",
    "\n",
    "# 표준화\n",
    "STscaler = StandardScaler()\n",
    "df['점수_표준화'] = STscaler.fit_transform(df[['점수']])\n",
    "\n",
    "# 역변환\n",
    "df['복원값1'] = MMscaler.inverse_transform(df[['점수_정규화']])\n",
    "df['복원값2'] = STscaler.inverse_transform(df[['점수_표준화']])\n",
    "\n",
    "df"
   ]
  },
  {
   "cell_type": "markdown",
   "id": "d74a238a",
   "metadata": {},
   "source": [
    "### 이산화 (Binning)\n",
    "\n",
    "- 연속형 데이터를 구간을 나눠서 범주형처럼 만드는 작업"
   ]
  },
  {
   "cell_type": "code",
   "execution_count": null,
   "id": "cc2fd585",
   "metadata": {},
   "outputs": [
    {
     "data": {
      "text/html": [
       "<div>\n",
       "<style scoped>\n",
       "    .dataframe tbody tr th:only-of-type {\n",
       "        vertical-align: middle;\n",
       "    }\n",
       "\n",
       "    .dataframe tbody tr th {\n",
       "        vertical-align: top;\n",
       "    }\n",
       "\n",
       "    .dataframe thead th {\n",
       "        text-align: right;\n",
       "    }\n",
       "</style>\n",
       "<table border=\"1\" class=\"dataframe\">\n",
       "  <thead>\n",
       "    <tr style=\"text-align: right;\">\n",
       "      <th></th>\n",
       "      <th>나이</th>\n",
       "      <th>연령대</th>\n",
       "    </tr>\n",
       "  </thead>\n",
       "  <tbody>\n",
       "    <tr>\n",
       "      <th>0</th>\n",
       "      <td>22</td>\n",
       "      <td>청년</td>\n",
       "    </tr>\n",
       "    <tr>\n",
       "      <th>1</th>\n",
       "      <td>25</td>\n",
       "      <td>청년</td>\n",
       "    </tr>\n",
       "    <tr>\n",
       "      <th>2</th>\n",
       "      <td>47</td>\n",
       "      <td>노년</td>\n",
       "    </tr>\n",
       "    <tr>\n",
       "      <th>3</th>\n",
       "      <td>35</td>\n",
       "      <td>중년</td>\n",
       "    </tr>\n",
       "    <tr>\n",
       "      <th>4</th>\n",
       "      <td>46</td>\n",
       "      <td>노년</td>\n",
       "    </tr>\n",
       "    <tr>\n",
       "      <th>5</th>\n",
       "      <td>52</td>\n",
       "      <td>노년</td>\n",
       "    </tr>\n",
       "    <tr>\n",
       "      <th>6</th>\n",
       "      <td>23</td>\n",
       "      <td>청년</td>\n",
       "    </tr>\n",
       "    <tr>\n",
       "      <th>7</th>\n",
       "      <td>44</td>\n",
       "      <td>노년</td>\n",
       "    </tr>\n",
       "    <tr>\n",
       "      <th>8</th>\n",
       "      <td>33</td>\n",
       "      <td>중년</td>\n",
       "    </tr>\n",
       "    <tr>\n",
       "      <th>9</th>\n",
       "      <td>38</td>\n",
       "      <td>중년</td>\n",
       "    </tr>\n",
       "  </tbody>\n",
       "</table>\n",
       "</div>"
      ],
      "text/plain": [
       "   나이 연령대\n",
       "0  22  청년\n",
       "1  25  청년\n",
       "2  47  노년\n",
       "3  35  중년\n",
       "4  46  노년\n",
       "5  52  노년\n",
       "6  23  청년\n",
       "7  44  노년\n",
       "8  33  중년\n",
       "9  38  중년"
      ]
     },
     "execution_count": 20,
     "metadata": {},
     "output_type": "execute_result"
    }
   ],
   "source": [
    "# cut\n",
    "## 경계값 미지정\n",
    "\n",
    "import pandas as pd\n",
    "\n",
    "ages = [22, 25, 47, 35, 46, 52, 23, 44, 33, 38]\n",
    "df = pd.DataFrame({'나이': ages})\n",
    "\n",
    "df['연령대'] = pd.cut(df['나이'], bins=3, labels=['청년', '중년', '노년'])\n",
    "df"
   ]
  },
  {
   "cell_type": "code",
   "execution_count": 23,
   "id": "5d87dee1",
   "metadata": {},
   "outputs": [
    {
     "data": {
      "text/html": [
       "<div>\n",
       "<style scoped>\n",
       "    .dataframe tbody tr th:only-of-type {\n",
       "        vertical-align: middle;\n",
       "    }\n",
       "\n",
       "    .dataframe tbody tr th {\n",
       "        vertical-align: top;\n",
       "    }\n",
       "\n",
       "    .dataframe thead th {\n",
       "        text-align: right;\n",
       "    }\n",
       "</style>\n",
       "<table border=\"1\" class=\"dataframe\">\n",
       "  <thead>\n",
       "    <tr style=\"text-align: right;\">\n",
       "      <th></th>\n",
       "      <th>나이</th>\n",
       "      <th>연령대</th>\n",
       "    </tr>\n",
       "  </thead>\n",
       "  <tbody>\n",
       "    <tr>\n",
       "      <th>0</th>\n",
       "      <td>22</td>\n",
       "      <td>청년</td>\n",
       "    </tr>\n",
       "    <tr>\n",
       "      <th>1</th>\n",
       "      <td>25</td>\n",
       "      <td>청년</td>\n",
       "    </tr>\n",
       "    <tr>\n",
       "      <th>2</th>\n",
       "      <td>47</td>\n",
       "      <td>중년</td>\n",
       "    </tr>\n",
       "    <tr>\n",
       "      <th>3</th>\n",
       "      <td>35</td>\n",
       "      <td>중년</td>\n",
       "    </tr>\n",
       "    <tr>\n",
       "      <th>4</th>\n",
       "      <td>46</td>\n",
       "      <td>중년</td>\n",
       "    </tr>\n",
       "    <tr>\n",
       "      <th>5</th>\n",
       "      <td>52</td>\n",
       "      <td>노년</td>\n",
       "    </tr>\n",
       "    <tr>\n",
       "      <th>6</th>\n",
       "      <td>23</td>\n",
       "      <td>청년</td>\n",
       "    </tr>\n",
       "    <tr>\n",
       "      <th>7</th>\n",
       "      <td>44</td>\n",
       "      <td>중년</td>\n",
       "    </tr>\n",
       "    <tr>\n",
       "      <th>8</th>\n",
       "      <td>33</td>\n",
       "      <td>중년</td>\n",
       "    </tr>\n",
       "    <tr>\n",
       "      <th>9</th>\n",
       "      <td>38</td>\n",
       "      <td>중년</td>\n",
       "    </tr>\n",
       "  </tbody>\n",
       "</table>\n",
       "</div>"
      ],
      "text/plain": [
       "   나이 연령대\n",
       "0  22  청년\n",
       "1  25  청년\n",
       "2  47  중년\n",
       "3  35  중년\n",
       "4  46  중년\n",
       "5  52  노년\n",
       "6  23  청년\n",
       "7  44  중년\n",
       "8  33  중년\n",
       "9  38  중년"
      ]
     },
     "execution_count": 23,
     "metadata": {},
     "output_type": "execute_result"
    }
   ],
   "source": [
    "# cut\n",
    "## 경계값 지정\n",
    "\n",
    "import pandas as pd\n",
    "\n",
    "bins = [0, 29, 49, 100]  # 0~29: 청년, 30~49: 중년, 50~100: 노년\n",
    "labels = ['청년', '중년', '노년']\n",
    "\n",
    "df['연령대'] = pd.cut(df['나이'], bins=bins, labels=labels)\n",
    "df"
   ]
  },
  {
   "cell_type": "code",
   "execution_count": 25,
   "id": "d6db51c5",
   "metadata": {},
   "outputs": [
    {
     "data": {
      "text/html": [
       "<div>\n",
       "<style scoped>\n",
       "    .dataframe tbody tr th:only-of-type {\n",
       "        vertical-align: middle;\n",
       "    }\n",
       "\n",
       "    .dataframe tbody tr th {\n",
       "        vertical-align: top;\n",
       "    }\n",
       "\n",
       "    .dataframe thead th {\n",
       "        text-align: right;\n",
       "    }\n",
       "</style>\n",
       "<table border=\"1\" class=\"dataframe\">\n",
       "  <thead>\n",
       "    <tr style=\"text-align: right;\">\n",
       "      <th></th>\n",
       "      <th>나이</th>\n",
       "      <th>연령대</th>\n",
       "    </tr>\n",
       "  </thead>\n",
       "  <tbody>\n",
       "    <tr>\n",
       "      <th>0</th>\n",
       "      <td>22</td>\n",
       "      <td>1분위</td>\n",
       "    </tr>\n",
       "    <tr>\n",
       "      <th>1</th>\n",
       "      <td>25</td>\n",
       "      <td>1분위</td>\n",
       "    </tr>\n",
       "    <tr>\n",
       "      <th>2</th>\n",
       "      <td>47</td>\n",
       "      <td>4분위</td>\n",
       "    </tr>\n",
       "    <tr>\n",
       "      <th>3</th>\n",
       "      <td>35</td>\n",
       "      <td>2분위</td>\n",
       "    </tr>\n",
       "    <tr>\n",
       "      <th>4</th>\n",
       "      <td>46</td>\n",
       "      <td>4분위</td>\n",
       "    </tr>\n",
       "    <tr>\n",
       "      <th>5</th>\n",
       "      <td>52</td>\n",
       "      <td>4분위</td>\n",
       "    </tr>\n",
       "    <tr>\n",
       "      <th>6</th>\n",
       "      <td>23</td>\n",
       "      <td>1분위</td>\n",
       "    </tr>\n",
       "    <tr>\n",
       "      <th>7</th>\n",
       "      <td>44</td>\n",
       "      <td>3분위</td>\n",
       "    </tr>\n",
       "    <tr>\n",
       "      <th>8</th>\n",
       "      <td>33</td>\n",
       "      <td>2분위</td>\n",
       "    </tr>\n",
       "    <tr>\n",
       "      <th>9</th>\n",
       "      <td>38</td>\n",
       "      <td>3분위</td>\n",
       "    </tr>\n",
       "  </tbody>\n",
       "</table>\n",
       "</div>"
      ],
      "text/plain": [
       "   나이  연령대\n",
       "0  22  1분위\n",
       "1  25  1분위\n",
       "2  47  4분위\n",
       "3  35  2분위\n",
       "4  46  4분위\n",
       "5  52  4분위\n",
       "6  23  1분위\n",
       "7  44  3분위\n",
       "8  33  2분위\n",
       "9  38  3분위"
      ]
     },
     "execution_count": 25,
     "metadata": {},
     "output_type": "execute_result"
    }
   ],
   "source": [
    "# qcut\n",
    "## 같은 개수씩 구간을 나눌때\n",
    "\n",
    "import pandas as pd\n",
    "\n",
    "ages = [22, 25, 47, 35, 46, 52, 23, 44, 33, 38]\n",
    "df = pd.DataFrame({'나이': ages})\n",
    "\n",
    "df['연령대'] = pd.qcut(df['나이'], q=4, labels=['1분위', '2분위', '3분위', '4분위'])\n",
    "\n",
    "df"
   ]
  },
  {
   "cell_type": "markdown",
   "id": "db099502",
   "metadata": {},
   "source": [
    "### 로그변환\n",
    "\n",
    "- 데이터를 로그(logarithm) 함수로 변형하는 작업\n",
    "- 데이터 분포가 비대칭(skewed)하거나 이상치가 너무 큰 경우, 안정적으로 만들어주기 위해 사용"
   ]
  },
  {
   "cell_type": "code",
   "execution_count": 26,
   "id": "1f54a038",
   "metadata": {},
   "outputs": [
    {
     "data": {
      "text/html": [
       "<div>\n",
       "<style scoped>\n",
       "    .dataframe tbody tr th:only-of-type {\n",
       "        vertical-align: middle;\n",
       "    }\n",
       "\n",
       "    .dataframe tbody tr th {\n",
       "        vertical-align: top;\n",
       "    }\n",
       "\n",
       "    .dataframe thead th {\n",
       "        text-align: right;\n",
       "    }\n",
       "</style>\n",
       "<table border=\"1\" class=\"dataframe\">\n",
       "  <thead>\n",
       "    <tr style=\"text-align: right;\">\n",
       "      <th></th>\n",
       "      <th>매출</th>\n",
       "      <th>매출_로그</th>\n",
       "    </tr>\n",
       "  </thead>\n",
       "  <tbody>\n",
       "    <tr>\n",
       "      <th>0</th>\n",
       "      <td>2000</td>\n",
       "      <td>7.600902</td>\n",
       "    </tr>\n",
       "    <tr>\n",
       "      <th>1</th>\n",
       "      <td>2200</td>\n",
       "      <td>7.696213</td>\n",
       "    </tr>\n",
       "    <tr>\n",
       "      <th>2</th>\n",
       "      <td>2500</td>\n",
       "      <td>7.824046</td>\n",
       "    </tr>\n",
       "    <tr>\n",
       "      <th>3</th>\n",
       "      <td>8000</td>\n",
       "      <td>8.987197</td>\n",
       "    </tr>\n",
       "    <tr>\n",
       "      <th>4</th>\n",
       "      <td>50000</td>\n",
       "      <td>10.819778</td>\n",
       "    </tr>\n",
       "  </tbody>\n",
       "</table>\n",
       "</div>"
      ],
      "text/plain": [
       "      매출      매출_로그\n",
       "0   2000   7.600902\n",
       "1   2200   7.696213\n",
       "2   2500   7.824046\n",
       "3   8000   8.987197\n",
       "4  50000  10.819778"
      ]
     },
     "execution_count": 26,
     "metadata": {},
     "output_type": "execute_result"
    }
   ],
   "source": [
    "# log(x)\n",
    "\n",
    "import pandas as pd\n",
    "import numpy as np\n",
    "\n",
    "df = pd.DataFrame({'매출': [2000, 2200, 2500, 8000, 50000]})\n",
    "\n",
    "df['매출_로그'] = np.log(df['매출'])\n",
    "df"
   ]
  },
  {
   "cell_type": "code",
   "execution_count": 31,
   "id": "8ac49890",
   "metadata": {},
   "outputs": [
    {
     "name": "stderr",
     "output_type": "stream",
     "text": [
      "c:\\Users\\yugye\\anaconda3\\envs\\bigdata-analyst\\Lib\\site-packages\\pandas\\core\\arraylike.py:399: RuntimeWarning: divide by zero encountered in log\n",
      "  result = getattr(ufunc, method)(*inputs, **kwargs)\n"
     ]
    },
    {
     "data": {
      "text/html": [
       "<div>\n",
       "<style scoped>\n",
       "    .dataframe tbody tr th:only-of-type {\n",
       "        vertical-align: middle;\n",
       "    }\n",
       "\n",
       "    .dataframe tbody tr th {\n",
       "        vertical-align: top;\n",
       "    }\n",
       "\n",
       "    .dataframe thead th {\n",
       "        text-align: right;\n",
       "    }\n",
       "</style>\n",
       "<table border=\"1\" class=\"dataframe\">\n",
       "  <thead>\n",
       "    <tr style=\"text-align: right;\">\n",
       "      <th></th>\n",
       "      <th>조회수</th>\n",
       "      <th>log</th>\n",
       "      <th>log1p</th>\n",
       "    </tr>\n",
       "  </thead>\n",
       "  <tbody>\n",
       "    <tr>\n",
       "      <th>0</th>\n",
       "      <td>0</td>\n",
       "      <td>-inf</td>\n",
       "      <td>0.000000</td>\n",
       "    </tr>\n",
       "    <tr>\n",
       "      <th>1</th>\n",
       "      <td>1</td>\n",
       "      <td>0.000000</td>\n",
       "      <td>0.693147</td>\n",
       "    </tr>\n",
       "    <tr>\n",
       "      <th>2</th>\n",
       "      <td>10</td>\n",
       "      <td>2.302585</td>\n",
       "      <td>2.397895</td>\n",
       "    </tr>\n",
       "    <tr>\n",
       "      <th>3</th>\n",
       "      <td>100</td>\n",
       "      <td>4.605170</td>\n",
       "      <td>4.615121</td>\n",
       "    </tr>\n",
       "    <tr>\n",
       "      <th>4</th>\n",
       "      <td>1000</td>\n",
       "      <td>6.907755</td>\n",
       "      <td>6.908755</td>\n",
       "    </tr>\n",
       "  </tbody>\n",
       "</table>\n",
       "</div>"
      ],
      "text/plain": [
       "    조회수       log     log1p\n",
       "0     0      -inf  0.000000\n",
       "1     1  0.000000  0.693147\n",
       "2    10  2.302585  2.397895\n",
       "3   100  4.605170  4.615121\n",
       "4  1000  6.907755  6.908755"
      ]
     },
     "execution_count": 31,
     "metadata": {},
     "output_type": "execute_result"
    }
   ],
   "source": [
    "# log(x+1)\n",
    "## 0이나 음수는 로그 계산이 안 되기 때문\n",
    "## 0이랑 가까울수록 정밀도가 떨어질 수 있어서\n",
    "\n",
    "import pandas as pd\n",
    "import numpy as np\n",
    "\n",
    "df = pd.DataFrame({'조회수': [0, 1, 10, 100, 1000]})\n",
    "\n",
    "df['log'] = np.log(df['조회수'])      # → 0에서 오류 발생\n",
    "df['log1p'] = np.log1p(df['조회수'])\n",
    "\n",
    "df"
   ]
  },
  {
   "cell_type": "markdown",
   "id": "50bb03c7",
   "metadata": {},
   "source": [
    "### 파생변수\n",
    "\n",
    "- 기존의 변수들을 이용해서 새로운 변수(열)를 만들어내는 과정\n",
    "- 데이터에 숨겨진 정보를 꺼내어 새로운 변수로 추가"
   ]
  },
  {
   "cell_type": "code",
   "execution_count": 33,
   "id": "4e935ae7",
   "metadata": {},
   "outputs": [
    {
     "data": {
      "text/html": [
       "<div>\n",
       "<style scoped>\n",
       "    .dataframe tbody tr th:only-of-type {\n",
       "        vertical-align: middle;\n",
       "    }\n",
       "\n",
       "    .dataframe tbody tr th {\n",
       "        vertical-align: top;\n",
       "    }\n",
       "\n",
       "    .dataframe thead th {\n",
       "        text-align: right;\n",
       "    }\n",
       "</style>\n",
       "<table border=\"1\" class=\"dataframe\">\n",
       "  <thead>\n",
       "    <tr style=\"text-align: right;\">\n",
       "      <th></th>\n",
       "      <th>구매일</th>\n",
       "      <th>연도</th>\n",
       "      <th>월</th>\n",
       "      <th>요일</th>\n",
       "    </tr>\n",
       "  </thead>\n",
       "  <tbody>\n",
       "    <tr>\n",
       "      <th>0</th>\n",
       "      <td>2023-01-01</td>\n",
       "      <td>2023</td>\n",
       "      <td>1</td>\n",
       "      <td>Sunday</td>\n",
       "    </tr>\n",
       "    <tr>\n",
       "      <th>1</th>\n",
       "      <td>2023-02-14</td>\n",
       "      <td>2023</td>\n",
       "      <td>2</td>\n",
       "      <td>Tuesday</td>\n",
       "    </tr>\n",
       "    <tr>\n",
       "      <th>2</th>\n",
       "      <td>2023-06-16</td>\n",
       "      <td>2023</td>\n",
       "      <td>6</td>\n",
       "      <td>Friday</td>\n",
       "    </tr>\n",
       "  </tbody>\n",
       "</table>\n",
       "</div>"
      ],
      "text/plain": [
       "         구매일    연도  월       요일\n",
       "0 2023-01-01  2023  1   Sunday\n",
       "1 2023-02-14  2023  2  Tuesday\n",
       "2 2023-06-16  2023  6   Friday"
      ]
     },
     "execution_count": 33,
     "metadata": {},
     "output_type": "execute_result"
    }
   ],
   "source": [
    "import pandas as pd\n",
    "\n",
    "df = pd.DataFrame({\n",
    "    '구매일': ['2023-01-01', '2023-02-14', '2023-06-16']\n",
    "})\n",
    "\n",
    "# 문자열 → datetime 타입으로 변환\n",
    "df['구매일'] = pd.to_datetime(df['구매일'])\n",
    "\n",
    "# 파생변수 생성\n",
    "df['연도'] = df['구매일'].dt.year\n",
    "df['월'] = df['구매일'].dt.month\n",
    "df['요일'] = df['구매일'].dt.day_name()\n",
    "\n",
    "df"
   ]
  }
 ],
 "metadata": {
  "kernelspec": {
   "display_name": "bigdata-analyst",
   "language": "python",
   "name": "python3"
  },
  "language_info": {
   "codemirror_mode": {
    "name": "ipython",
    "version": 3
   },
   "file_extension": ".py",
   "mimetype": "text/x-python",
   "name": "python",
   "nbconvert_exporter": "python",
   "pygments_lexer": "ipython3",
   "version": "3.11.13"
  }
 },
 "nbformat": 4,
 "nbformat_minor": 5
}
